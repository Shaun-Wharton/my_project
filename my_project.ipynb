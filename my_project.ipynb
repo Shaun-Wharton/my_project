{
 "cells": [
  {
   "cell_type": "markdown",
   "id": "f40873d3-483b-4278-8d87-3b975c876d20",
   "metadata": {},
   "source": [
    "Utilising a Python script to investigate deprivation locations and their relationships to football violence in England"
   ]
  },
  {
   "cell_type": "markdown",
   "id": "fcf885a5-68ed-40c0-9403-398103166c47",
   "metadata": {},
   "source": [
    "First, we must import the external packages that we will be using to complete our script. The external packages that we are using are going to allow us to complete \n",
    "the desired functions for our analysis. "
   ]
  },
  {
   "cell_type": "code",
   "execution_count": null,
   "id": "559ff494-e339-456f-92e0-ac5f3d18c29b",
   "metadata": {},
   "outputs": [],
   "source": [
    "import pandas as pd\n",
    "import folium\n",
    "import geopandas as gpd\n",
    "from shapely.geometry import Point\n",
    "import matplotlib.pyplot as plt\n",
    "import rasterio as rio\n",
    "import rasterio.features\n",
    "import numpy as np\n",
    "from matplotlib.patches import Patch"
   ]
  },
  {
   "cell_type": "markdown",
   "id": "356f2a3b-a8d8-4ed0-a0f8-697940fe0cf3",
   "metadata": {},
   "source": [
    "Next, we access the England deprivation areas shapefile. This will be utilised to provide an insight into the locations with varying levels of deprivation. To gauge \n",
    "an intial insight, we will define deprived_locations to sort the deprivation ranks of locations in decending order.  "
   ]
  },
  {
   "cell_type": "code",
   "execution_count": null,
   "id": "78a131ae-40c0-4f18-a4c7-2880e187470d",
   "metadata": {},
   "outputs": [],
   "source": [
    "def load_deprivation_data(filepath):\n",
    "    \"\"\"\n",
    "    Load shapefile containing England deprivation areas and create a sorted GeoDataFrame.\n",
    "\n",
    "    Parameters:\n",
    "    - filepath (str): The file path to the shapefile containing England deprivation areas.\n",
    "\n",
    "    Returns:\n",
    "    - GeoDataFrame: A GeoDataFrame containing deprivation areas.\n",
    "\n",
    "    This function reads the shapefile containing England deprivation areas.\n",
    "    It creates a GeoDataFrame containing the deprivation areas and sorts it by deprivation rank.\n",
    "    \"\"\""
   ]
  },
  {
   "cell_type": "code",
   "execution_count": null,
   "id": "0c6b7ea7-1aba-4e13-87f6-9441f4a03b1d",
   "metadata": {},
   "outputs": [],
   "source": [
    "locations = gpd.read_file('data_files/England_Deprivation_Areas.shp')\n",
    "deprived_locations = locations.sort_values(by='RAvgRank')"
   ]
  },
  {
   "cell_type": "code",
   "execution_count": null,
   "id": "68b95c58-0843-4695-89c5-f389e94dd8f9",
   "metadata": {},
   "outputs": [],
   "source": [
    "print(deprived_locations.head(152))"
   ]
  },
  {
   "cell_type": "markdown",
   "id": "42fec3c0-3c33-4739-b8c1-4bde527d2e4c",
   "metadata": {},
   "source": [
    "After running this function -print(deprived_locations.head(152))-, we can see the first 5 and last 5 locations. An intial quick analysis allows us to realise that 4 of the most deprived locations are in the North of Englans, with 3 being located in the North West of England. Compared to the least deprived ranks, we can see that these values are within the South of England. "
   ]
  },
  {
   "cell_type": "markdown",
   "id": "fbafb4bc-83aa-4b39-a615-6c4707e01930",
   "metadata": {},
   "source": [
    "Now, we will create the Stadiums data using a csv file which is located in the data_files folder. To do this, we will ustilse the pandas data frame to generate\n",
    "our point data. We will also define the geometry using the longitude and latidue data in the csv file. After ensuring the set up of the geometry, we will set the coordinate system to EPSG:4326. "
   ]
  },
  {
   "cell_type": "code",
   "execution_count": null,
   "id": "bfa93099-7327-49f6-85f8-00d4e9564d2c",
   "metadata": {},
   "outputs": [],
   "source": [
    "def create_geo_dataframe_from_csv(file_path):\n",
    "    \"\"\"\n",
    "    Create a GeoDataFrame from a CSV file containing stadium data.\n",
    "\n",
    "    Parameters:\n",
    "    - file_path (str): The file path to the CSV file containing stadium data.\n",
    "    Returns:\n",
    "    - GeoDataFrame: A GeoDataFrame containing the Stadiums data. \n",
    "\n",
    "    This function reads the stadiums data from a CSV file.\n",
    "    It converts longitude and latitude coordinates into Shapely Point geometries and creates a GeoDataFrame with these geometries. \n",
    "    The resulting GeoDataFrame is then assigned to the EPSG:4326 CRS.\n",
    "    \"\"\""
   ]
  },
  {
   "cell_type": "code",
   "execution_count": null,
   "id": "51a5ebdf-8c6d-4550-ab90-18aa93063204",
   "metadata": {},
   "outputs": [],
   "source": [
    "df = pd.read_csv('data_files/Stadiums_FBO.csv')\n",
    "df['geometry'] = [Point(lon, lat) for lon, lat in zip(df['LONGITUDE'], df['LATITUDE'])]\n",
    "stadiums = gpd.GeoDataFrame(df, geometry='geometry')\n",
    "stadiums.crs = 'EPSG:4326'"
   ]
  },
  {
   "cell_type": "markdown",
   "id": "36328d44-618a-485d-97dd-b1fab76e03e4",
   "metadata": {},
   "source": [
    "After running this cell, we can then run the next cell to show the data that was created."
   ]
  },
  {
   "cell_type": "code",
   "execution_count": null,
   "id": "6bbb774d-b1a7-4c51-b266-89c0e09f943b",
   "metadata": {},
   "outputs": [],
   "source": [
    "stadiums.head"
   ]
  },
  {
   "cell_type": "markdown",
   "id": "fae07083-1523-4560-a334-7269de49bff6",
   "metadata": {},
   "source": [
    "Here we can see the stadiums data of the 20 current Premier League teams with the specific data that we will be using throughout to complete analysis."
   ]
  },
  {
   "cell_type": "markdown",
   "id": "f6a9c7b3-e67b-47cd-a58b-010b06e503cb",
   "metadata": {},
   "source": [
    "Reviewing the deprivation areas data, the indivdual ranks for deprivation can be seen. However, to produce an appropriate analysis, we can modify the shapefile to produce a new shapefile. In the new shapefile, we can create a new column to sort the deprivation ranks into thirds. The first being the areas which are most deprived, with the ranks between 1 and 50. The second being the moderately deprived areas, with the ranks between 51 and 100. The third being the areas which are least deprived, with the ranks between 101 and 151. The assigned categories can be attributed into the correct column. This can then be saved into the data files folder. This is the initial steps into rasterizing the vector data from the data files folder. "
   ]
  },
  {
   "cell_type": "code",
   "execution_count": null,
   "id": "2e50c944-981e-4b65-bdd1-90ed0b73b751",
   "metadata": {},
   "outputs": [],
   "source": [
    "def categorise_deprivation_areas():\n",
    "    \"\"\"\n",
    "    Categorise the England deprivation areas based on their deprivation rank.\n",
    "\n",
    "    This function reads a shapefile containing England deprivation areas and categorises each area based on its deprivation rank. Three categories are defined: \n",
    "    'Most Deprived', 'Moderately Deprived' and 'Least Deprived'. The function assigns each area to one of these categories and adds a new column 'DepCat' \n",
    "    to the GeoDataFrame to store the data. The categorised GeoDataFrame is then saved to a new shapefile.\n",
    "    \"\"\""
   ]
  },
  {
   "cell_type": "code",
   "execution_count": null,
   "id": "70c8d619-95c0-480e-ac89-2a07b620e558",
   "metadata": {},
   "outputs": [],
   "source": [
    "locations_categorised = gpd.read_file('data_files/England_Deprivation_Areas.shp')\n",
    "\n",
    "\n",
    "most_deprived_boundary = (1, 50)\n",
    "moderately_deprived_boundary = (51, 100)\n",
    "least_deprived_boundary = (101, 151)\n",
    "\n",
    "\n",
    "locations_categorised['DepCat'] = ''\n",
    "\n",
    "\n",
    "for idx, row in locations_categorised.iterrows():\n",
    "    deprivation_rank = row['RAvgRank']\n",
    "    if deprivation_rank >= most_deprived_boundary[0] and deprivation_rank <= most_deprived_boundary[1]:\n",
    "        locations_categorised.at[idx, 'DepCat'] = 'Most Deprived'\n",
    "    elif deprivation_rank >= moderately_deprived_boundary[0] and deprivation_rank <= moderately_deprived_boundary[1]:\n",
    "        locations_categorised.at[idx, 'DepCat'] = 'Moderately Deprived'\n",
    "    else:\n",
    "        locations_categorised.at[idx, 'DepCat'] = 'Least Deprived'\n",
    "\n",
    "\n",
    "locations_categorised.to_file('data_files/Categorised_England_Deprivation.shp')"
   ]
  },
  {
   "cell_type": "markdown",
   "id": "1bd70897-2994-408d-a484-1b4aeed17cdf",
   "metadata": {},
   "source": [
    "We then utilise rasterio. We set the resolution to our desired resolution. The coordinates can then be set in the raster."
   ]
  },
  {
   "cell_type": "code",
   "execution_count": null,
   "id": "d7c5d968-9fa5-464d-b4de-3d2b5b7fbddc",
   "metadata": {},
   "outputs": [],
   "source": [
    "def create_affine_transform(locations, resolution):\n",
    "    \"\"\"\n",
    "    Create an affine transformation for raster data.\n",
    "\n",
    "    Parameters:\n",
    "    - locations (GeoDataFrame): A GeoDataFrame containing the locations.\n",
    "    - resolution (float): The resolution of the raster data to be made.\n",
    "\n",
    "    Returns:\n",
    "    - affine_tfm (Affine): An affine transformation matrix.\n",
    "\n",
    "    This function creates an affine transformation matrix for raster data based on the total bounds\n",
    "    of the provided locations GeoDataFrame and the specified resolution.\n",
    "    \"\"\""
   ]
  },
  {
   "cell_type": "code",
   "execution_count": null,
   "id": "e209f644-fa32-4001-b867-967bdba2ca7d",
   "metadata": {},
   "outputs": [],
   "source": [
    "resolution = 0.01\n",
    "affine_tfm = rasterio.transform.from_origin(locations.total_bounds[0], locations.total_bounds[1], resolution, resolution)"
   ]
  },
  {
   "cell_type": "markdown",
   "id": "60d09164-922c-4fbf-8b9c-c310911bee62",
   "metadata": {},
   "source": [
    "Next we can plot the new rasterized map that has been created. Using matplotlib, we can set the figure size intially of the raster. Firstly, the outline of England can be plotted from the deprivation areas data. Then, we can add the categorised areas which were previously created. These are Most Deprived, Moderately Deprived and Least Deprived. After this, we can then overlay the satadiums data. This will plot the stadiums accurately onto the raster. Finally, we add the legend to the raster map."
   ]
  },
  {
   "cell_type": "code",
   "execution_count": null,
   "id": "2280c5cc-3f0a-4e18-8b73-445e2f772299",
   "metadata": {},
   "outputs": [],
   "source": [
    "def plot_deprivation_map(locations_categorised, stadiums):\n",
    "    \"\"\"\n",
    "    Plot a map of England deprivation areas with the stadium locations.\n",
    "\n",
    "    Parameters:\n",
    "    - locations_categorised (GeoDataFrame): A GeoDataFrame containing categorised deprivation areas.\n",
    "    - stadiums (GeoDataFrame): A GeoDataFrame containing stadium locations.\n",
    "\n",
    "    This function generates a visualisation of England deprivation areas with categorised polygons plotted\n",
    "    in different colors representing different levels of deprivation. It overlays stadium locations on the map.\n",
    "    The function uses Matplotlib to create the plot, with custom legend and styling options applied.\n",
    "    The resulting map is displayed to visualise the spatial distribution of deprivation areas and stadium locations.\n",
    "    \"\"\""
   ]
  },
  {
   "cell_type": "code",
   "execution_count": null,
   "id": "878ebe89-2880-49ad-b6c1-73ce7d9a88cb",
   "metadata": {},
   "outputs": [],
   "source": [
    "plt.figure(figsize=(10, 8))\n",
    "\n",
    "\n",
    "locations_categorised.plot(ax=plt.gca(), edgecolor='black', facecolor='none')\n",
    "\n",
    "\n",
    "handles = []\n",
    "labels = []\n",
    "for category, color in zip(['Most Deprived', 'Moderately Deprived', 'Least Deprived'], ['red', 'yellow', 'green']):\n",
    "    plot = locations_categorised[locations_categorised['DepCat'] == category].plot(ax=plt.gca(), color=color, alpha=0.5)\n",
    "    handles.append(Patch(color=color, alpha=0.5))\n",
    "    labels.append(category)\n",
    "\n",
    "\n",
    "stadiums.plot(ax=plt.gca(), color='navy', markersize=20, label='Stadiums')  \n",
    "\n",
    "\n",
    "plt.legend(handles, labels, loc='upper right')\n",
    "\n",
    "\n",
    "plt.title('Stadiums Located in Deprivation Locations')\n",
    "plt.xlabel('Longitude')\n",
    "plt.ylabel('Latitude')\n",
    "plt.show()"
   ]
  },
  {
   "cell_type": "markdown",
   "id": "4a25f36c-83df-4b75-aba1-8c8813bc90d4",
   "metadata": {},
   "source": [
    "And so, the raster map is created from the intially used vector data. The new raster visually represents the stadiums and their location in which they fall in, with reference to the deprivation categories. To be able to quantify the number of stadiums that fall into each category, we can plot the data onto a graph. This can be created using the function below. "
   ]
  },
  {
   "cell_type": "code",
   "execution_count": null,
   "id": "1f2f5b31-8372-4798-a2cb-610463468a6b",
   "metadata": {},
   "outputs": [],
   "source": [
    "def plot_stadium_counts_by_category(locations_categorised, stadiums):\n",
    "    \"\"\" \n",
    "    Produce a bar plot to outline the number of stadiums that fall into each category. \n",
    "\n",
    "    Paramaters: \n",
    "    - locations_categorised (GeoDataFrame): A GeoDataFrame containing categorised deprivation areas.\n",
    "    - stadiums (GeoDataFrame): A GeoDataFrame containing stadium locations.\n",
    "\n",
    "    This function produces a bar plot which calculates the counts of the stadiums which are within each category.\n",
    "    The bar plot produces the reults visually for each deprivation category. The counts are then plotted onto the \n",
    "    bar plot using Matplotlib, with customisation of the bars. The resulting bar plot is displayed for further analysis \n",
    "    of the results generated. \n",
    "    \"\"\""
   ]
  },
  {
   "cell_type": "code",
   "execution_count": null,
   "id": "5eb70fbe-4b73-4042-a33e-33e38c3e0cf8",
   "metadata": {},
   "outputs": [],
   "source": [
    "locations_categorised.reset_index(drop=True, inplace=True)\n",
    "\n",
    "\n",
    "most_deprived_count = len(stadiums[locations_categorised['DepCat'] == 'Most Deprived'])\n",
    "moderately_deprived_count = len(stadiums[locations_categorised['DepCat'] == 'Moderately Deprived'])\n",
    "least_deprived_count = len(stadiums[locations_categorised['DepCat'] == 'Least Deprived'])\n",
    "\n",
    "categories = ['Most Deprived', 'Moderately Deprived', 'Least Deprived']\n",
    "counts = [most_deprived_count, moderately_deprived_count, least_deprived_count]\n",
    "\n",
    "\n",
    "plt.figure(figsize=(8, 6))\n",
    "bars = plt.bar(categories, counts, color=['red', 'yellow', 'green'])\n",
    "plt.xlabel('Deprivation Category')\n",
    "plt.ylabel('Number of Stadiums')\n",
    "plt.title('Count of Stadiums in Deprivation Categories')\n",
    "\n",
    "\n",
    "for bar in bars:\n",
    "    height = bar.get_height()\n",
    "    plt.text(bar.get_x() + bar.get_width() / 2.0, height, '%d' % int(height), ha='center', va='bottom')\n",
    "\n",
    "plt.show()"
   ]
  },
  {
   "cell_type": "markdown",
   "id": "ca9607a0-0f83-485b-9a25-f34632271eac",
   "metadata": {},
   "source": [
    "We then start to define the deprivation counts and calculate them for the representation on the graph. Next, begin to plot the counts onto the graph. We set the colours accordingly to match the deprivation categories seen in the raster map. To ensure the count is clear on the graphy, we can add the counts for each category on top of their respective bars. The resulting graph shows us that there are more football stadiums that are located in the more deprived areas."
   ]
  },
  {
   "cell_type": "markdown",
   "id": "525f66e2-ba4a-45f4-a18d-9f0f44e1d4ad",
   "metadata": {},
   "source": [
    "To further build upon the results of our graphs, we can utilse folium to generate an interactive map which displays the deprivation data and also the stadium data.  "
   ]
  },
  {
   "cell_type": "markdown",
   "id": "5a68c412-7c6c-4984-9479-f17276cdebda",
   "metadata": {},
   "source": [
    "To begin with, we define the map for the locations data which was previously defined. utilising .explore will allow us to use an interactive map. We then ensure that the average rank is the outlier for the classification of the map. This ensures that as we navigate the interactive map, each location will be displayed as the rank of the deprivation for that location. "
   ]
  },
  {
   "cell_type": "code",
   "execution_count": null,
   "id": "3ace5eae-99b1-4e71-863c-02848e37a205",
   "metadata": {},
   "outputs": [],
   "source": [
    "dep_m = locations.explore('RAvgRank', cmap='viridis')\n",
    "dep_m"
   ]
  },
  {
   "cell_type": "markdown",
   "id": "b19facf3-3299-4905-9f88-043201e80f31",
   "metadata": {},
   "source": [
    "Next, we add the stadiums data onto the interactive map. We initally itterate each row in stadiums. This creates the marker for the interactive map. We then generate the popup information that will display when clicking on the markers. This provides important information to be displayed. We then create the marker and customise the marker, in this case adding a football marker, to ensure it is appropriate for the interactive map. "
   ]
  },
  {
   "cell_type": "code",
   "execution_count": null,
   "id": "73bdfd0d-e7f3-4382-b79b-077218da8bed",
   "metadata": {},
   "outputs": [],
   "source": [
    "def add_stadium_markers_to_map(stadiums, deprived_locations, dep_m):\n",
    "    \"\"\"\n",
    "    Add stadium markers with popup content to an interactive Folium map.\n",
    "\n",
    "    Parameters:\n",
    "    - stadiums (DataFrame): DataFrame containing stadium information.\n",
    "    - deprived_locations (DataFrame): DataFrame containing deprivation locations.\n",
    "    - dep_m (folium.Map): Folium map object to which stadium markers will be added.\n",
    "\n",
    "    This function iterates over rows in the stadiums DataFrame and \n",
    "    creates popup content for each stadium. It then adds a marker \n",
    "    for each stadium with the corresponding popup content to the interactive map. \n",
    "    \"\"\""
   ]
  },
  {
   "cell_type": "code",
   "execution_count": null,
   "id": "5720f401-a236-4730-956b-c102f5a62b66",
   "metadata": {},
   "outputs": [],
   "source": [
    "for idx, row in stadiums.iterrows():\n",
    "\n",
    "    popup_content = f\"<b>Stadium:</b> {row['STADIUM']}<br>\"\n",
    "    popup_content += f\"<b>Location:</b> {row['CTYUA19NM']}<br>\"\n",
    "    popup_content += f\"<b>Club:</b> {row['CLUB']}<br>\"\n",
    "    popup_content += f\"<b>Banning Orders (2019):</b> {row['BANNING_ORDERS_19']}<br>\"\n",
    "    popup_content += f\"<b>Banning Orders (2022):</b> {row['BANNING_ORDERS_22']}<br>\"\n",
    "   \n",
    "\n",
    "\n",
    "    folium.Marker(\n",
    "        location=[row['LATITUDE'], row['LONGITUDE']],\n",
    "        popup=popup_content,\n",
    "        icon = folium.Icon(icon='futbol', prefix='fa', color='red')\n",
    "    ).add_to(dep_m)\n",
    "\n",
    "\n",
    "dep_m"
   ]
  },
  {
   "cell_type": "markdown",
   "id": "7bcc72ec-428e-4c44-94c5-94ed3311b237",
   "metadata": {},
   "source": [
    "The interactive map now allows us to navigate the data as we wish. We can display the deprivation information and also display the stadiums data, which crucially displays the football banning order data from the years 2019 and 2022 which is key information to analyse. "
   ]
  },
  {
   "cell_type": "markdown",
   "id": "e38aacbd-0988-4fb3-82e7-a3b42e6e173f",
   "metadata": {},
   "source": [
    "Next, we will be generating a function which can help inform us on the particular football banning order data from 2019 for the stadiums that we are looking to produce the results for. This will help inform our analysis. "
   ]
  },
  {
   "cell_type": "code",
   "execution_count": null,
   "id": "fbff1ffb-4f4b-4fbb-8709-7c9d1b9a393a",
   "metadata": {},
   "outputs": [],
   "source": [
    "def plot_banning_orders_2019(df):\n",
    "    \"\"\"\n",
    "    Plot the number of banning orders per club in 2019.\n",
    "\n",
    "    Parameters:\n",
    "    - df (DataFrame): DataFrame containing banning order information.\n",
    "\n",
    "    This function extracts club names and the corresponding number of banning orders \n",
    "    in 2019 from the DataFrame, df. It then generates a bar plot to visualise the \n",
    "    distribution of banning orders across the individual clubs. The resulting plot provides \n",
    "    insight into the prevalence of banning orders among different clubs in 2019.\n",
    "    \"\"\""
   ]
  },
  {
   "cell_type": "code",
   "execution_count": null,
   "id": "e52986f1-64cf-4346-aab7-aa42e3968f79",
   "metadata": {},
   "outputs": [],
   "source": [
    "clubs = df['CLUB'].tolist()  \n",
    "banning_orders_19 = df['BANNING_ORDERS_19']\n",
    "\n",
    "\n",
    "plt.figure(figsize=(10, 6))\n",
    "bars = plt.bar(clubs, banning_orders_19, color='skyblue')\n",
    "plt.xlabel('Clubs')\n",
    "plt.ylabel('Banning Orders 2019')\n",
    "plt.title('Banning Orders in 2019')\n",
    "plt.xticks(rotation=45, ha='right')\n",
    "\n",
    "for bar in bars:\n",
    "    height = bar.get_height()\n",
    "    plt.text(bar.get_x() + bar.get_width() / 2.0, height, '%d' % int(height), ha='center', va='bottom')\n",
    "\n",
    "plt.tight_layout()\n",
    "plt.show()"
   ]
  },
  {
   "cell_type": "markdown",
   "id": "ba9c76ab-ae2a-4402-8608-0f552bb6f760",
   "metadata": {},
   "source": [
    "The bar plot that has been produced provides an insight into the conditions of violence in 2019 for the different stadium locations, which can provide a wider reflection on the community and it's issues with violence."
   ]
  },
  {
   "cell_type": "markdown",
   "id": "95691941-e8e0-42af-9930-de4050a40443",
   "metadata": {},
   "source": [
    "Similarly, we can complete a similar function but this time to produce a bar plot representing the data from 2022. We will be expecting similar outputs, but obviously displaying the data from 2022 instead of 2019. "
   ]
  },
  {
   "cell_type": "code",
   "execution_count": null,
   "id": "41fafca0-c042-4812-ad89-34234549185d",
   "metadata": {},
   "outputs": [],
   "source": [
    "def plot_banning_orders_2022(df):\n",
    "    \"\"\"\n",
    "    Plot the number of banning orders per club in 2022.\n",
    "\n",
    "    Parameters:\n",
    "    - df (DataFrame): DataFrame containing banning order information.\n",
    "\n",
    "    This function extracts club names and the corresponding number of banning orders \n",
    "    in 2022 from the DataFrame, df. It then generates a bar plot to visualise the \n",
    "    distribution of banning orders across the individual clubs. The resulting plot provides \n",
    "    insight into the prevalence of banning orders among different clubs in 2022.\n",
    "    \"\"\""
   ]
  },
  {
   "cell_type": "code",
   "execution_count": null,
   "id": "14ea0ff6-a5d7-4675-8256-eda8c4cf8bb2",
   "metadata": {},
   "outputs": [],
   "source": [
    "clubs = df['CLUB'].tolist()  \n",
    "banning_orders_22 = df['BANNING_ORDERS_22']\n",
    "\n",
    "\n",
    "plt.figure(figsize=(10, 6))\n",
    "bars = plt.bar(clubs, banning_orders_22, color='red')\n",
    "plt.xlabel('Stadium')\n",
    "plt.ylabel('Banning Orders 2022')\n",
    "plt.title('Banning Orders in 2022')\n",
    "plt.xticks(rotation=45, ha='right')\n",
    "\n",
    "for bar in bars:\n",
    "    height = bar.get_height()\n",
    "    plt.text(bar.get_x() + bar.get_width() / 2.0, height, '%d' % int(height), ha='center', va='bottom')\n",
    "\n",
    "plt.tight_layout()\n",
    "plt.show()"
   ]
  },
  {
   "cell_type": "markdown",
   "id": "8aa1c983-9b66-425f-91d1-d5b521368427",
   "metadata": {},
   "source": [
    "Now we have created individual bar plots for the years 2019 and 2022, we can begin to compare and contrast the results to continue with our analysis. However, our next function will prove to simplify this task and overlay the 2019 and 2022 bar plots. This will allow us to visually see the differences in banning order offences between the two years. Firstly, we plot the results from 2019 and 2022. We provide the different years with differening colours to help us distinguish the results. After this, we can add the counts on top of the indivdual clubs to provide the exact amount of banning orders for each year. "
   ]
  },
  {
   "cell_type": "code",
   "execution_count": null,
   "id": "7b9ec61d-b7b4-4a64-96b9-9a333eefac7a",
   "metadata": {},
   "outputs": [],
   "source": [
    "def plot_comparison_banning_orders(clubs, banning_orders_19, banning_orders_22):\n",
    "    \"\"\"\n",
    "    Plot a comparison of banning orders between 2019 and 2022 for different clubs.\n",
    "\n",
    "    Parameters:\n",
    "    - clubs (list): List of club names.\n",
    "    - banning_orders_19 (list): List of banning orders counts for 2019.\n",
    "    - banning_orders_22 (list): List of banning orders counts for 2022.\n",
    "\n",
    "    This function generates a bar plot to compare the number of banning orders \n",
    "    for each club between 2019 and 2022. The resulting plot provides a visual \n",
    "    comparison of banning order trends between the two years.\n",
    "    \"\"\""
   ]
  },
  {
   "cell_type": "code",
   "execution_count": null,
   "id": "d31f8a54-29ac-4f02-a4b9-7bed23618ea2",
   "metadata": {},
   "outputs": [],
   "source": [
    "plt.figure(figsize=(10, 6))\n",
    "bars_2019 = plt.bar(clubs, banning_orders_19, color='skyblue', label='2019')\n",
    "\n",
    "bars_2022 = plt.bar(clubs, banning_orders_22, color='red', alpha=0.5, label='2022')\n",
    "\n",
    "plt.xlabel('Clubs')\n",
    "plt.ylabel('Banning Orders')\n",
    "plt.title('Comparison of Banning Orders in 2019 and 2022')\n",
    "plt.xticks(rotation=45, ha='right')\n",
    "plt.legend()\n",
    "\n",
    "for bar in bars_2019:\n",
    "    height = bar.get_height()\n",
    "    plt.text(bar.get_x() + bar.get_width() / 2.0, height, '%d' % int(height), ha='center', va='bottom')\n",
    "\n",
    "for bar in bars_2022:\n",
    "    height = bar.get_height()\n",
    "    plt.text(bar.get_x() + bar.get_width() / 2.0, height, '%d' % int(height), ha='center', va='bottom')\n",
    "\n",
    "plt.tight_layout()\n",
    "plt.show()"
   ]
  },
  {
   "cell_type": "markdown",
   "id": "73709f7f-ef71-420b-9d2b-7404e4b50d32",
   "metadata": {},
   "source": [
    "Finally, after the completion of each function, we can continue with our analysis. The results provide great insights into the issues into the relationship between football violence and deprivation. There is also evidently disparities between the \"steryotypical\" North and South divide within England. We can now utilise these results to build upon previous fininding and research into this subject matter. "
   ]
  }
 ],
 "metadata": {
  "kernelspec": {
   "display_name": "Python 3 (ipykernel)",
   "language": "python",
   "name": "python3"
  },
  "language_info": {
   "codemirror_mode": {
    "name": "ipython",
    "version": 3
   },
   "file_extension": ".py",
   "mimetype": "text/x-python",
   "name": "python",
   "nbconvert_exporter": "python",
   "pygments_lexer": "ipython3",
   "version": "3.9.19"
  }
 },
 "nbformat": 4,
 "nbformat_minor": 5
}
