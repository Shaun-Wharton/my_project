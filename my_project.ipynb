{
 "cells": [
  {
   "cell_type": "markdown",
   "id": "f40873d3-483b-4278-8d87-3b975c876d20",
   "metadata": {},
   "source": [
    "Utilising a Python script to investigate deprivation locations and their relationships to football violence in England"
   ]
  },
  {
   "cell_type": "markdown",
   "id": "e38aacbd-0988-4fb3-82e7-a3b42e6e173f",
   "metadata": {},
   "source": []
  },
  {
   "cell_type": "markdown",
   "id": "fcf885a5-68ed-40c0-9403-398103166c47",
   "metadata": {},
   "source": [
    "First, we must import the external packages that we will be using to complete our script. The external packages that we are using are going to allow us to complete \n",
    "the desired functions for our analysis. "
   ]
  },
  {
   "cell_type": "code",
   "execution_count": null,
   "id": "559ff494-e339-456f-92e0-ac5f3d18c29b",
   "metadata": {},
   "outputs": [],
   "source": [
    "import pandas as pd\n",
    "import folium\n",
    "import geopandas as gpd\n",
    "from shapely.geometry import Point\n",
    "import matplotlib.pyplot as plt\n",
    "import rasterio as rio\n",
    "import rasterio.features\n",
    "import numpy as np\n",
    "from matplotlib.patches import Patch"
   ]
  },
  {
   "cell_type": "markdown",
   "id": "356f2a3b-a8d8-4ed0-a0f8-697940fe0cf3",
   "metadata": {},
   "source": [
    "Next, we access the England deprivation areas shapefile. This will be utilised to provide an insight into the locations with varying levels of deprivation. To gauge \n",
    "an intial insight, we will define deprived_locations to sort the deprivation ranks of locations in decending order.  "
   ]
  },
  {
   "cell_type": "code",
   "execution_count": null,
   "id": "0c6b7ea7-1aba-4e13-87f6-9441f4a03b1d",
   "metadata": {},
   "outputs": [],
   "source": [
    "locations = gpd.read_file('data_files/England_Deprivation_Areas.shp')\n",
    "deprived_locations = locations.sort_values(by='RAvgRank')"
   ]
  },
  {
   "cell_type": "markdown",
   "id": "1426f661-5896-4f3f-b6cf-972a142769e4",
   "metadata": {},
   "source": [
    "After running this function, we can see the first 5 and last 5 locations. An intial quick analysis allows us to realise that 4 of the most deprived locations are\n",
    "in the North of Englans, with 3 being located in the North West of England. Compared to the least deprived ranks, we can see that these values are within the South \n",
    "of England. "
   ]
  }
 ],
 "metadata": {
  "kernelspec": {
   "display_name": "Python 3 (ipykernel)",
   "language": "python",
   "name": "python3"
  },
  "language_info": {
   "codemirror_mode": {
    "name": "ipython",
    "version": 3
   },
   "file_extension": ".py",
   "mimetype": "text/x-python",
   "name": "python",
   "nbconvert_exporter": "python",
   "pygments_lexer": "ipython3",
   "version": "3.9.19"
  }
 },
 "nbformat": 4,
 "nbformat_minor": 5
}
