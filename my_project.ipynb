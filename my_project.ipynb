{
 "cells": [
  {
   "cell_type": "markdown",
   "id": "f40873d3-483b-4278-8d87-3b975c876d20",
   "metadata": {},
   "source": [
    "Utilising a Python script to investigate deprivation locations and their relationships to football violence in England"
   ]
  },
  {
   "cell_type": "markdown",
   "id": "e38aacbd-0988-4fb3-82e7-a3b42e6e173f",
   "metadata": {},
   "source": []
  },
  {
   "cell_type": "markdown",
   "id": "fcf885a5-68ed-40c0-9403-398103166c47",
   "metadata": {},
   "source": [
    "First, we must import the external packages that we will be using to complete our script. The external packages that we are using are going to allow us to complete \n",
    "the desired functions for our analysis. "
   ]
  },
  {
   "cell_type": "code",
   "execution_count": null,
   "id": "559ff494-e339-456f-92e0-ac5f3d18c29b",
   "metadata": {},
   "outputs": [],
   "source": [
    "import pandas as pd\n",
    "import folium\n",
    "import geopandas as gpd\n",
    "from shapely.geometry import Point\n",
    "import matplotlib.pyplot as plt\n",
    "import rasterio as rio\n",
    "import rasterio.features\n",
    "import numpy as np\n",
    "from matplotlib.patches import Patch"
   ]
  },
  {
   "cell_type": "markdown",
   "id": "356f2a3b-a8d8-4ed0-a0f8-697940fe0cf3",
   "metadata": {},
   "source": [
    "Next, we access the England deprivation areas shapefile. This will be utilised to provide an insight into the locations with varying levels of deprivation. To gauge \n",
    "an intial insight, we will define deprived_locations to sort the deprivation ranks of locations in decending order.  "
   ]
  },
  {
   "cell_type": "code",
   "execution_count": null,
   "id": "0c6b7ea7-1aba-4e13-87f6-9441f4a03b1d",
   "metadata": {},
   "outputs": [],
   "source": [
    "locations = gpd.read_file('data_files/England_Deprivation_Areas.shp')\n",
    "deprived_locations = locations.sort_values(by='RAvgRank')"
   ]
  },
  {
   "cell_type": "code",
   "execution_count": null,
   "id": "68b95c58-0843-4695-89c5-f389e94dd8f9",
   "metadata": {},
   "outputs": [],
   "source": [
    "print(deprived_locations.head(152))"
   ]
  },
  {
   "cell_type": "markdown",
   "id": "42fec3c0-3c33-4739-b8c1-4bde527d2e4c",
   "metadata": {},
   "source": [
    "After running this function -print(deprived_locations.head(152))-, we can see the first 5 and last 5 locations. An intial quick analysis allows us to realise that 4 of the most deprived locations are in the North of Englans, with 3 being located in the North West of England. Compared to the least deprived ranks, we can see that these values are within the South of England. "
   ]
  },
  {
   "cell_type": "markdown",
   "id": "fbafb4bc-83aa-4b39-a615-6c4707e01930",
   "metadata": {},
   "source": [
    "Now, we will create the Stadiums data using a csv file which is located in the data_files folder. To do this, we will ustilse the pandas data frame to generate\n",
    "our point data. We will also define the geometry using the longitude and latidue data in the csv file. After ensuring the set up of the geometry, we will set the coordinate system to EPSG:4326. "
   ]
  },
  {
   "cell_type": "code",
   "execution_count": null,
   "id": "51a5ebdf-8c6d-4550-ab90-18aa93063204",
   "metadata": {},
   "outputs": [],
   "source": [
    "df = pd.read_csv('data_files/Stadiums_FBO.csv')\n",
    "df['geometry'] = [Point(lon, lat) for lon, lat in zip(df['LONGITUDE'], df['LATITUDE'])]\n",
    "stadiums = gpd.GeoDataFrame(df, geometry='geometry')\n",
    "stadiums.crs = 'EPSG:4326'"
   ]
  },
  {
   "cell_type": "markdown",
   "id": "36328d44-618a-485d-97dd-b1fab76e03e4",
   "metadata": {},
   "source": [
    "After running this cell, we can then run the next cell to show the data that was created."
   ]
  },
  {
   "cell_type": "code",
   "execution_count": null,
   "id": "6bbb774d-b1a7-4c51-b266-89c0e09f943b",
   "metadata": {},
   "outputs": [],
   "source": [
    "stadiums.head"
   ]
  },
  {
   "cell_type": "markdown",
   "id": "fae07083-1523-4560-a334-7269de49bff6",
   "metadata": {},
   "source": [
    "Here we can see the stadiums data of the 20 current Premier League teams with the specific data that we will be using throughout to complete analysis."
   ]
  }
 ],
 "metadata": {
  "kernelspec": {
   "display_name": "Python 3 (ipykernel)",
   "language": "python",
   "name": "python3"
  },
  "language_info": {
   "codemirror_mode": {
    "name": "ipython",
    "version": 3
   },
   "file_extension": ".py",
   "mimetype": "text/x-python",
   "name": "python",
   "nbconvert_exporter": "python",
   "pygments_lexer": "ipython3",
   "version": "3.9.19"
  }
 },
 "nbformat": 4,
 "nbformat_minor": 5
}
