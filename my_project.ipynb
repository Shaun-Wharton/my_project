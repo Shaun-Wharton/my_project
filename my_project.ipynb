{
 "cells": [
  {
   "cell_type": "markdown",
   "id": "f40873d3-483b-4278-8d87-3b975c876d20",
   "metadata": {},
   "source": [
    "Utilising a Python script to investigate deprivation locations and their relationships to football violence in England"
   ]
  },
  {
   "cell_type": "markdown",
   "id": "e38aacbd-0988-4fb3-82e7-a3b42e6e173f",
   "metadata": {},
   "source": []
  },
  {
   "cell_type": "markdown",
   "id": "fcf885a5-68ed-40c0-9403-398103166c47",
   "metadata": {},
   "source": [
    "First, we must import the external packages that we will be using to complete our script. The external packages that we are using are going to allow us to complete \n",
    "the desired functions for our analysis. "
   ]
  },
  {
   "cell_type": "code",
   "execution_count": null,
   "id": "559ff494-e339-456f-92e0-ac5f3d18c29b",
   "metadata": {},
   "outputs": [],
   "source": [
    "import pandas as pd\n",
    "import folium\n",
    "import geopandas as gpd\n",
    "from shapely.geometry import Point\n",
    "import matplotlib.pyplot as plt\n",
    "import rasterio as rio\n",
    "import rasterio.features\n",
    "import numpy as np\n",
    "from matplotlib.patches import Patch"
   ]
  },
  {
   "cell_type": "markdown",
   "id": "356f2a3b-a8d8-4ed0-a0f8-697940fe0cf3",
   "metadata": {},
   "source": [
    "Next, we access the England deprivation areas shapefile. This will be utilised to provide an insight into the locations with varying levels of deprivation. To gauge \n",
    "an intial insight, we will define deprived_locations to sort the deprivation ranks of locations in decending order.  "
   ]
  },
  {
   "cell_type": "code",
   "execution_count": null,
   "id": "0c6b7ea7-1aba-4e13-87f6-9441f4a03b1d",
   "metadata": {},
   "outputs": [],
   "source": [
    "locations = gpd.read_file('data_files/England_Deprivation_Areas.shp')\n",
    "deprived_locations = locations.sort_values(by='RAvgRank')"
   ]
  },
  {
   "cell_type": "code",
   "execution_count": null,
   "id": "68b95c58-0843-4695-89c5-f389e94dd8f9",
   "metadata": {},
   "outputs": [],
   "source": [
    "print(deprived_locations.head(152))"
   ]
  },
  {
   "cell_type": "markdown",
   "id": "42fec3c0-3c33-4739-b8c1-4bde527d2e4c",
   "metadata": {},
   "source": [
    "After running this function -print(deprived_locations.head(152))-, we can see the first 5 and last 5 locations. An intial quick analysis allows us to realise that 4 of the most deprived locations are in the North of Englans, with 3 being located in the North West of England. Compared to the least deprived ranks, we can see that these values are within the South of England. "
   ]
  },
  {
   "cell_type": "markdown",
   "id": "fbafb4bc-83aa-4b39-a615-6c4707e01930",
   "metadata": {},
   "source": [
    "Now, we will create the Stadiums data using a csv file which is located in the data_files folder. To do this, we will ustilse the pandas data frame to generate\n",
    "our point data. We will also define the geometry using the longitude and latidue data in the csv file. After ensuring the set up of the geometry, we will set the coordinate system to EPSG:4326. "
   ]
  },
  {
   "cell_type": "code",
   "execution_count": null,
   "id": "51a5ebdf-8c6d-4550-ab90-18aa93063204",
   "metadata": {},
   "outputs": [],
   "source": [
    "df = pd.read_csv('data_files/Stadiums_FBO.csv')\n",
    "df['geometry'] = [Point(lon, lat) for lon, lat in zip(df['LONGITUDE'], df['LATITUDE'])]\n",
    "stadiums = gpd.GeoDataFrame(df, geometry='geometry')\n",
    "stadiums.crs = 'EPSG:4326'"
   ]
  },
  {
   "cell_type": "markdown",
   "id": "36328d44-618a-485d-97dd-b1fab76e03e4",
   "metadata": {},
   "source": [
    "After running this cell, we can then run the next cell to show the data that was created."
   ]
  },
  {
   "cell_type": "code",
   "execution_count": null,
   "id": "6bbb774d-b1a7-4c51-b266-89c0e09f943b",
   "metadata": {},
   "outputs": [],
   "source": [
    "stadiums.head"
   ]
  },
  {
   "cell_type": "markdown",
   "id": "fae07083-1523-4560-a334-7269de49bff6",
   "metadata": {},
   "source": [
    "Here we can see the stadiums data of the 20 current Premier League teams with the specific data that we will be using throughout to complete analysis."
   ]
  },
  {
   "cell_type": "markdown",
   "id": "f6a9c7b3-e67b-47cd-a58b-010b06e503cb",
   "metadata": {},
   "source": [
    "Reviewing the deprivation areas data, the indivdual ranks for deprivation can be seen. However, to produce an appropriate analysis, we can modify the shapefile to produce a new shapefile. In the new shapefile, we can create a new column to sort the deprivation ranks into thirds. The first being the areas which are most deprived, with the ranks between 1 and 50. The second being the moderately deprived areas, with the ranks between 51 and 100. The third being the areas which are least deprived, with the ranks between 101 and 151. The assigned categories can be attributed into the correct column. This can then be saved into the data files folder. This is the initial steps into rasterizing the vector data from the data files folder. "
   ]
  },
  {
   "cell_type": "code",
   "execution_count": null,
   "id": "70c8d619-95c0-480e-ac89-2a07b620e558",
   "metadata": {},
   "outputs": [],
   "source": [
    "locations_categorised = gpd.read_file('data_files/England_Deprivation_Areas.shp')\n",
    "\n",
    "# Define boundaries for each category\n",
    "most_deprived_boundary = (1, 50)\n",
    "moderately_deprived_boundary = (51, 100)\n",
    "least_deprived_boundary = (101, 151)\n",
    "\n",
    "# Create a new column to store the deprivation category\n",
    "locations_categorised['DepCat'] = ''\n",
    "\n",
    "# Assign each location to its corresponding category\n",
    "for idx, row in locations_categorised.iterrows():\n",
    "    deprivation_rank = row['RAvgRank']\n",
    "    if deprivation_rank >= most_deprived_boundary[0] and deprivation_rank <= most_deprived_boundary[1]:\n",
    "        locations_categorised.at[idx, 'DepCat'] = 'Most Deprived'\n",
    "    elif deprivation_rank >= moderately_deprived_boundary[0] and deprivation_rank <= moderately_deprived_boundary[1]:\n",
    "        locations_categorised.at[idx, 'DepCat'] = 'Moderately Deprived'\n",
    "    else:\n",
    "        locations_categorised.at[idx, 'DepCat'] = 'Least Deprived'\n",
    "\n",
    "# Save the updated shapefile\n",
    "locations_categorised.to_file('data_files/Categorised_England_Deprivation.shp')"
   ]
  },
  {
   "cell_type": "markdown",
   "id": "1bd70897-2994-408d-a484-1b4aeed17cdf",
   "metadata": {},
   "source": [
    "We then utilise rasterio. We set the resolution to our desired resolution. The coordinates can then be set in the raster."
   ]
  },
  {
   "cell_type": "code",
   "execution_count": null,
   "id": "e209f644-fa32-4001-b867-967bdba2ca7d",
   "metadata": {},
   "outputs": [],
   "source": [
    "resolution = 0.01\n",
    "affine_tfm = rasterio.transform.from_origin(locations.total_bounds[0], locations.total_bounds[1], resolution, resolution)"
   ]
  },
  {
   "cell_type": "markdown",
   "id": "60d09164-922c-4fbf-8b9c-c310911bee62",
   "metadata": {},
   "source": [
    "Next we can plot the new rasterized map that has been created. Using matplotlib, we can set the figure size intially of the raster. Firstly, the outline of England can be plotted from the deprivation areas data. Then, we can add the categorised areas which were previously created. These are Most Deprived, Moderately Deprived and Least Deprived. After this, we can then overlay the satadiums data. This will plot the stadiums accurately onto the raster. Finally, we add the legend to the raster map."
   ]
  },
  {
   "cell_type": "code",
   "execution_count": null,
   "id": "878ebe89-2880-49ad-b6c1-73ce7d9a88cb",
   "metadata": {},
   "outputs": [],
   "source": [
    "# Plot the rasterized map\n",
    "plt.figure(figsize=(10, 8))\n",
    "\n",
    "# Plot the outline of England locations\n",
    "locations_categorised.plot(ax=plt.gca(), edgecolor='black', facecolor='none')\n",
    "\n",
    "# Plot the categorized areas\n",
    "handles = []\n",
    "labels = []\n",
    "for category, color in zip(['Most Deprived', 'Moderately Deprived', 'Least Deprived'], ['red', 'yellow', 'green']):\n",
    "    plot = locations_categorised[locations_categorised['DepCat'] == category].plot(ax=plt.gca(), color=color, alpha=0.5)\n",
    "    handles.append(Patch(color=color, alpha=0.5))\n",
    "    labels.append(category)\n",
    "\n",
    "# Overlay your stadium data on this rasterized map\n",
    "stadiums.plot(ax=plt.gca(), color='navy', markersize=20, label='Stadiums')  \n",
    "\n",
    "# Add custom legend\n",
    "plt.legend(handles, labels, loc='upper right')\n",
    "\n",
    "\n",
    "plt.title('England Deprivation Locations with Stadiums')\n",
    "plt.xlabel('Longitude')\n",
    "plt.ylabel('Latitude')\n",
    "plt.show()"
   ]
  },
  {
   "cell_type": "markdown",
   "id": "4a25f36c-83df-4b75-aba1-8c8813bc90d4",
   "metadata": {},
   "source": [
    "And so, the raster map is created from the intially used vector data. The new raster visually represents the stadiums and their location in which they fall in, with reference to the deprivation categories. To be able to quantify the number of stadiums that fall into each category, we can plot the data onto a graph. This can be created using the function below. "
   ]
  },
  {
   "cell_type": "code",
   "execution_count": null,
   "id": "5eb70fbe-4b73-4042-a33e-33e38c3e0cf8",
   "metadata": {},
   "outputs": [],
   "source": [
    "locations_categorised.reset_index(drop=True, inplace=True)\n",
    "\n",
    "# Calculate counts of stadiums within each category\n",
    "most_deprived_count = len(stadiums[locations_categorised['DepCat'] == 'Most Deprived'])\n",
    "moderately_deprived_count = len(stadiums[locations_categorised['DepCat'] == 'Moderately Deprived'])\n",
    "least_deprived_count = len(stadiums[locations_categorised['DepCat'] == 'Least Deprived'])\n",
    "\n",
    "categories = ['Most Deprived', 'Moderately Deprived', 'Least Deprived']\n",
    "counts = [most_deprived_count, moderately_deprived_count, least_deprived_count]\n",
    "\n",
    "# Plot the counts on a bar graph\n",
    "plt.figure(figsize=(8, 6))\n",
    "bars = plt.bar(categories, counts, color=['red', 'yellow', 'green'])\n",
    "plt.xlabel('Deprivation Category')\n",
    "plt.ylabel('Number of Stadiums')\n",
    "plt.title('Count of Stadiums in Deprivation Categories')\n",
    "\n",
    "# Add counts on top of each bar\n",
    "for bar in bars:\n",
    "    height = bar.get_height()\n",
    "    plt.text(bar.get_x() + bar.get_width() / 2.0, height, '%d' % int(height), ha='center', va='bottom')\n",
    "\n",
    "plt.show()"
   ]
  },
  {
   "cell_type": "markdown",
   "id": "ca9607a0-0f83-485b-9a25-f34632271eac",
   "metadata": {},
   "source": []
  }
 ],
 "metadata": {
  "kernelspec": {
   "display_name": "Python 3 (ipykernel)",
   "language": "python",
   "name": "python3"
  },
  "language_info": {
   "codemirror_mode": {
    "name": "ipython",
    "version": 3
   },
   "file_extension": ".py",
   "mimetype": "text/x-python",
   "name": "python",
   "nbconvert_exporter": "python",
   "pygments_lexer": "ipython3",
   "version": "3.9.19"
  }
 },
 "nbformat": 4,
 "nbformat_minor": 5
}
